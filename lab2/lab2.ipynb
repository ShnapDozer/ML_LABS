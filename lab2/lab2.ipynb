{
 "cells": [
  {
   "attachments": {},
   "cell_type": "markdown",
   "metadata": {},
   "source": [
    "# 4. Задания по разделу программной реализации\n",
    "# 4.1. Логическая нейронно-сетевая операция «И» (программная реализация)\n",
    "Используя функцию McCulloch_Pitts_OR, напишите функцию McCulloch_Pitts_AND,\n",
    "реализующую вычисление логической функции «И» с использованием нейрона Мак-Каллока-\n",
    "Питтса."
   ]
  },
  {
   "cell_type": "code",
   "execution_count": 3,
   "metadata": {},
   "outputs": [],
   "source": [
    "def McCulloch_Pitts_AND():\n",
    "    print('Введите веса')\n",
    "    w1 = float(input('Вес w1 = '))\n",
    "    w2 = float(input('Вес w2 = '))\n",
    "    print('Введите величину порога')\n",
    "    theta = float(input('Порог = '))\n",
    "\n",
    "    y = [0, 0, 0, 0]\n",
    "    x1 = [1, 1, 0, 0]\n",
    "    x2 = [1, 0, 1, 0]\n",
    "    z = [1, 0, 0, 0]\n",
    "    con = 1\n",
    "\n",
    "    while con:\n",
    "        zin = [x1[i] * w1 + x2[i] * w2 for i in range(4)]\n",
    "\n",
    "        for i in range(4):\n",
    "            if zin[i] >= theta:\n",
    "                y[i] = 1\n",
    "            else:\n",
    "                y[i] = 0\n",
    "\n",
    "        print('Значение на выходе нейрона')\n",
    "        print(y)\n",
    "\n",
    "        if y == z:\n",
    "            con = 0\n",
    "        else:\n",
    "            print('Нейрон не обучен. Введите другие значения весовых коэффициентов и порога')\n",
    "            w1 = float(input('Вес w1 = '))\n",
    "            w2 = float(input('Вес w2 = '))\n",
    "            theta = float(input('Порог = '))\n",
    "\n",
    "    print('Нейрон МакКаллока-Питса для функции \"И\"')\n",
    "    print('Веса нейрона')\n",
    "    print(w1)\n",
    "    print(w2)\n",
    "    print('Пороговое значение')\n",
    "    print(theta)"
   ]
  },
  {
   "cell_type": "code",
   "execution_count": 4,
   "metadata": {},
   "outputs": [
    {
     "name": "stdout",
     "output_type": "stream",
     "text": [
      "Введите веса\n",
      "Введите величину порога\n",
      "Значение на выходе нейрона\n",
      "[1, 0, 0, 0]\n",
      "Нейрон МакКаллока-Питса для функции \"ИЛИ\" (англ. \"OR\")\n",
      "Веса нейрона\n",
      "1.0\n",
      "1.0\n",
      "Пороговое значение\n",
      "2.0\n"
     ]
    }
   ],
   "source": [
    "McCulloch_Pitts_AND()"
   ]
  },
  {
   "attachments": {},
   "cell_type": "markdown",
   "metadata": {},
   "source": [
    "# 4.2. Логическая нейронно-сетевая операция «И» в биполярной логике\n",
    "Используя функцию McCulloch_Pitts_AND, напишите функцию McCulloch_Pitts_AND_bipolar,\n",
    "реализующую вычисление логической функции «И» с использованием нейрона Мак-Каллока-\n",
    "Питтса с биполярными входами и выходами."
   ]
  },
  {
   "cell_type": "code",
   "execution_count": 1,
   "metadata": {},
   "outputs": [],
   "source": [
    "def McCulloch_Pitts_bipolar_AND():\n",
    "    print('Введите веса')\n",
    "    w1 = float(input('Вес w1 = '))\n",
    "    w2 = float(input('Вес w2 = '))\n",
    "    print('Введите величину порога')\n",
    "    theta = float(input('Порог = '))\n",
    "\n",
    "    y =  [0, 0, 0, 0]\n",
    "    x1 = [-1, 1, -1, 1]\n",
    "    x2 = [ 1, -1, -1, 1]\n",
    "    z =  [-1, -1, -1, 1]\n",
    "    \n",
    "    con = 1\n",
    "    while con:\n",
    "        zin = [x1[i] * w1 + x2[i] * w2 for i in range(4)]\n",
    "\n",
    "        for i in range(4):\n",
    "            if zin[i] <= theta:\n",
    "                y[i] = -1\n",
    "            else:\n",
    "                y[i] = 1\n",
    "\n",
    "        print('Значение на выходе нейрона')\n",
    "        print(y)\n",
    "\n",
    "        if y == z:\n",
    "            con = 0\n",
    "        else:\n",
    "            print('Нейрон не обучен. Введите другие значения весовых коэффициентов и порога')\n",
    "            w1 = float(input('Вес w1 = '))\n",
    "            w2 = float(input('Вес w2 = '))\n",
    "            theta = float(input('Порог = '))\n",
    "\n",
    "    print('Нейрон МакКаллока-Питса для функции \"биполярное И\"')\n",
    "    print('Веса нейрона')\n",
    "    print(w1)\n",
    "    print(w2)\n",
    "    print('Пороговое значение')\n",
    "    print(theta)"
   ]
  },
  {
   "cell_type": "code",
   "execution_count": 3,
   "metadata": {},
   "outputs": [
    {
     "name": "stdout",
     "output_type": "stream",
     "text": [
      "Введите веса\n",
      "Введите величину порога\n",
      "Значение на выходе нейрона\n",
      "[-1, -1, -1, 1]\n",
      "Нейрон МакКаллока-Питса для функции \"биполярное И\"\n",
      "Веса нейрона\n",
      "1.0\n",
      "1.0\n",
      "Пороговое значение\n",
      "0.0\n"
     ]
    }
   ],
   "source": [
    "McCulloch_Pitts_bipolar_AND()"
   ]
  },
  {
   "attachments": {},
   "cell_type": "markdown",
   "metadata": {},
   "source": [
    "# 4.3. Реализация логической операции «Исключающее-ИЛИ» (англ. XOR) с помощью 2-х слойного перцептрона\n",
    "Используя программу ранее подготовленные коды, написать программу McCulloch_Pitts_XOR, реализующую  нейросетевое вычисление логической функции «Исключающее ИЛИ» (англ. XOR)."
   ]
  },
  {
   "cell_type": "code",
   "execution_count": 8,
   "metadata": {},
   "outputs": [],
   "source": [
    "def McCulloch_Pitts(x1, x2, w1, w2, theta):\n",
    "    y = -1\n",
    "    zin = x1 * w1 + x2 * w2\n",
    "\n",
    "    if zin >= theta:\n",
    "        y = 1\n",
    "    else:\n",
    "        y = 0\n",
    "\n",
    "    print('Значение на выходе нейрона', y)\n",
    "    return y\n"
   ]
  },
  {
   "cell_type": "code",
   "execution_count": 11,
   "metadata": {},
   "outputs": [],
   "source": [
    "def McCulloch_Pitts_XOR():\n",
    "    w1 = [1, -1, 1]\n",
    "    w2 = [-1, 1, 1]\n",
    "    theta = 1\n",
    "    \n",
    "    y1 =  [0, 0, 0, 0]\n",
    "    y2 =  [0, 0, 0, 0]\n",
    "    y =  [0, 0, 0, 0]\n",
    "    x1 = [0, 1, 0, 1]\n",
    "    x2 = [0, 0, 1, 1]\n",
    "    z =  [0, 1, 1, 0]\n",
    "\n",
    "    for i in range (4):\n",
    "        y1[i] = McCulloch_Pitts(x1[i], x2[i], w1[0], w2[0], theta)\n",
    "        y2[i] = McCulloch_Pitts(x1[i], x2[i], w1[1], w2[1], theta)\n",
    "        y[i] = McCulloch_Pitts(y1[i], y2[i], w1[2], w2[2], theta)\n",
    "\n",
    "    if y != z:\n",
    "        print('ERROR: Введите другие значения весовых коэффициентов и порога', y)\n",
    "\n",
    "    print('Нейрон МакКаллока-Питса для функции «Исключающее ИЛИ» (англ. XOR)', y)\n",
    "    print('Веса нейрона')\n",
    "    print(w1)\n",
    "    print(w2)\n",
    "    print('Пороговое значение')\n",
    "    print(theta)"
   ]
  },
  {
   "cell_type": "code",
   "execution_count": 12,
   "metadata": {},
   "outputs": [
    {
     "name": "stdout",
     "output_type": "stream",
     "text": [
      "Значение на выходе нейрона 0\n",
      "Значение на выходе нейрона 0\n",
      "Значение на выходе нейрона 0\n",
      "Значение на выходе нейрона 1\n",
      "Значение на выходе нейрона 0\n",
      "Значение на выходе нейрона 1\n",
      "Значение на выходе нейрона 0\n",
      "Значение на выходе нейрона 1\n",
      "Значение на выходе нейрона 1\n",
      "Значение на выходе нейрона 0\n",
      "Значение на выходе нейрона 0\n",
      "Значение на выходе нейрона 0\n",
      "Нейрон МакКаллока-Питса для функции «Исключающее ИЛИ» (англ. XOR) [0, 1, 1, 0]\n",
      "Веса нейрона\n",
      "[1, -1, 1]\n",
      "[-1, 1, 1]\n",
      "Пороговое значение\n",
      "1\n"
     ]
    }
   ],
   "source": [
    "McCulloch_Pitts_XOR()"
   ]
  },
  {
   "cell_type": "code",
   "execution_count": null,
   "metadata": {},
   "outputs": [],
   "source": []
  }
 ],
 "metadata": {
  "kernelspec": {
   "display_name": "Python 3 (ipykernel)",
   "language": "python",
   "name": "python3"
  },
  "language_info": {
   "codemirror_mode": {
    "name": "ipython",
    "version": 3
   },
   "file_extension": ".py",
   "mimetype": "text/x-python",
   "name": "python",
   "nbconvert_exporter": "python",
   "pygments_lexer": "ipython3",
   "version": "3.10.9"
  },
  "orig_nbformat": 4
 },
 "nbformat": 4,
 "nbformat_minor": 2
}
