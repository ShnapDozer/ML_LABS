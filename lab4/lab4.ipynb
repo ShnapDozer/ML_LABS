{
  "nbformat": 4,
  "nbformat_minor": 0,
  "metadata": {
    "colab": {
      "provenance": []
    },
    "kernelspec": {
      "name": "python3",
      "display_name": "Python 3"
    },
    "language_info": {
      "name": "python"
    }
  },
  "cells": [
    {
      "cell_type": "markdown",
      "source": [
        "# Лабораторная работа 4.\n",
        "# Распознавание цифр с использованием набора данных MNIST\n",
        "(Python вариант)\n"
      ],
      "metadata": {
        "id": "e-FXycQz44D0"
      }
    },
    {
      "cell_type": "code",
      "execution_count": 55,
      "metadata": {
        "id": "7INfZGB24rgD"
      },
      "outputs": [],
      "source": [
        "import torch\n",
        "import torchvision\n",
        "import torch.nn as nn\n",
        "import torch.optim as optim\n",
        "import torch.nn.functional as F\n",
        "from torch.utils.data import DataLoader, random_split\n",
        "from torchvision.transforms import ToTensor\n",
        "from sklearn.metrics import confusion_matrix, accuracy_score\n",
        "\n",
        "import matplotlib.pyplot as plt\n",
        "import numpy as np\n",
        "\n",
        "import cv2\n",
        "import torchvision.transforms as transforms\n"
      ]
    },
    {
      "cell_type": "code",
      "source": [
        "train_data = torchvision.datasets.MNIST(root='./data', train=True, transform=ToTensor(), download=True)\n",
        "test_data = torchvision.datasets.MNIST(root='./data', train=False, transform=ToTensor(), download=True)"
      ],
      "metadata": {
        "id": "LciuyHA08Tzg"
      },
      "execution_count": 10,
      "outputs": []
    },
    {
      "cell_type": "code",
      "source": [
        "train_data, val_data = random_split(train_data, [50000, 10000])\n",
        "train_loader = DataLoader(train_data, batch_size=64, shuffle=True)\n",
        "val_loader = DataLoader(val_data, batch_size=64, shuffle=False)\n",
        "test_loader = DataLoader(test_data, batch_size=64, shuffle=False)"
      ],
      "metadata": {
        "id": "YXyxc3mQ8UbP"
      },
      "execution_count": 11,
      "outputs": []
    },
    {
      "cell_type": "code",
      "source": [
        "class MLP(nn.Module):\n",
        "  def __init__(self):\n",
        "    super(MLP, self).__init__()\n",
        "    self.fc1 = nn.Linear(28*28, 128)\n",
        "    self.fc2 = nn.Linear(128, 10)\n",
        "\n",
        "  def forward(self, x):\n",
        "    x = x.view(-1, 28*28)\n",
        "    x = F.relu(self.fc1(x))\n",
        "    x = F.softmax(self.fc2(x), dim=1)\n",
        "    return x"
      ],
      "metadata": {
        "id": "fBwIyvHi8Yig"
      },
      "execution_count": 12,
      "outputs": []
    },
    {
      "cell_type": "code",
      "source": [
        "def train_epoch(model, data_loader, optimizer, loss_fn):\n",
        "  model.train()\n",
        "  for X, Y in data_loader:\n",
        "    optimizer.zero_grad()\n",
        "    Y_pred = model(X)\n",
        "    loss = loss_fn(Y_pred, Y)\n",
        "    loss.backward()\n",
        "    optimizer.step()\n",
        "\n",
        "def evaluate_model(model, data_loader, loss_fn):\n",
        "  model.eval()\n",
        "  total_loss = 0\n",
        "  with torch.no_grad():\n",
        "    for X, Y in data_loader:\n",
        "      Y_pred = model(X)\n",
        "      loss = loss_fn(Y_pred, Y)\n",
        "      total_loss += loss.item()\n",
        "  return total_loss / len(data_loader)\n",
        "\n",
        "def predict(model, loader):\n",
        "  model.eval()\n",
        "  all_preds = []\n",
        "  with torch.no_grad():\n",
        "    for X, _ in loader:\n",
        "      preds = model(X)\n",
        "      _, pred_labels = torch.max(preds, 1)\n",
        "      all_preds.extend(pred_labels.numpy())\n",
        "  return all_preds\n",
        "\n",
        "def visualize_predictions(images, labels, preds, num_samples=10):\n",
        "  idxs = np.random.choice(len(images), size=num_samples, replace=False)\n",
        "  fig, axes = plt.subplots(1, num_samples, figsize=(15, 3))\n",
        "\n",
        "  for i, ax in zip(idxs, axes):\n",
        "    ax.imshow(images[i].numpy().squeeze(), cmap='gray')\n",
        "    ax.set_title(f\"{preds[i]} (true: {labels[i]})\")\n",
        "\n",
        "  ax.axis('off')\n",
        "  plt.show()"
      ],
      "metadata": {
        "id": "-oGEbC8Z8t0L"
      },
      "execution_count": 21,
      "outputs": []
    },
    {
      "cell_type": "code",
      "source": [
        "model = MLP()\n",
        "optimizer = optim.SGD(model.parameters(), lr=0.01)"
      ],
      "metadata": {
        "id": "0b5CAWyK85De"
      },
      "execution_count": 14,
      "outputs": []
    },
    {
      "cell_type": "code",
      "source": [
        "num_epochs = 40\n",
        "loss_fn = nn.CrossEntropyLoss()\n",
        "\n",
        "for epoch in range(num_epochs):\n",
        "  train_epoch(model, train_loader, optimizer, loss_fn)\n",
        "  val_loss = evaluate_model(model, val_loader, loss_fn)\n",
        "  print(f\"Epoch {epoch+1}, Validation Loss: {val_loss:.4f}\")"
      ],
      "metadata": {
        "colab": {
          "base_uri": "https://localhost:8080/"
        },
        "id": "kt7xbUnv85Zt",
        "outputId": "b9d2f44e-13e9-45f0-bce4-4de9542f50e2"
      },
      "execution_count": 82,
      "outputs": [
        {
          "output_type": "stream",
          "name": "stdout",
          "text": [
            "Epoch 1, Validation Loss: 1.6401\n",
            "Epoch 2, Validation Loss: 1.6387\n",
            "Epoch 3, Validation Loss: 1.6373\n",
            "Epoch 4, Validation Loss: 1.6363\n",
            "Epoch 5, Validation Loss: 1.6350\n",
            "Epoch 6, Validation Loss: 1.6343\n",
            "Epoch 7, Validation Loss: 1.6332\n",
            "Epoch 8, Validation Loss: 1.6323\n",
            "Epoch 9, Validation Loss: 1.6315\n",
            "Epoch 10, Validation Loss: 1.6307\n",
            "Epoch 11, Validation Loss: 1.6298\n",
            "Epoch 12, Validation Loss: 1.6291\n",
            "Epoch 13, Validation Loss: 1.6286\n",
            "Epoch 14, Validation Loss: 1.6278\n",
            "Epoch 15, Validation Loss: 1.6273\n",
            "Epoch 16, Validation Loss: 1.6264\n",
            "Epoch 17, Validation Loss: 1.6257\n",
            "Epoch 18, Validation Loss: 1.6248\n",
            "Epoch 19, Validation Loss: 1.6227\n",
            "Epoch 20, Validation Loss: 1.6042\n",
            "Epoch 21, Validation Loss: 1.5904\n",
            "Epoch 22, Validation Loss: 1.5832\n",
            "Epoch 23, Validation Loss: 1.5787\n",
            "Epoch 24, Validation Loss: 1.5755\n",
            "Epoch 25, Validation Loss: 1.5727\n",
            "Epoch 26, Validation Loss: 1.5703\n",
            "Epoch 27, Validation Loss: 1.5685\n",
            "Epoch 28, Validation Loss: 1.5669\n",
            "Epoch 29, Validation Loss: 1.5654\n",
            "Epoch 30, Validation Loss: 1.5640\n",
            "Epoch 31, Validation Loss: 1.5626\n",
            "Epoch 32, Validation Loss: 1.5617\n",
            "Epoch 33, Validation Loss: 1.5605\n",
            "Epoch 34, Validation Loss: 1.5595\n",
            "Epoch 35, Validation Loss: 1.5588\n",
            "Epoch 36, Validation Loss: 1.5580\n",
            "Epoch 37, Validation Loss: 1.5570\n",
            "Epoch 38, Validation Loss: 1.5562\n",
            "Epoch 39, Validation Loss: 1.5556\n",
            "Epoch 40, Validation Loss: 1.5548\n"
          ]
        }
      ]
    },
    {
      "cell_type": "code",
      "source": [
        "test_images, test_labels = next(iter(test_loader))\n",
        "model.eval()\n",
        "\n",
        "all_preds = []\n",
        "with torch.no_grad():\n",
        " for X in test_images:\n",
        "  preds = model(X)\n",
        "  _, pred_labels = torch.max(preds, 1)\n",
        "  all_preds.extend(pred_labels.numpy())\n",
        "\n",
        "visualize_predictions(test_images, test_labels.numpy(), all_preds)"
      ],
      "metadata": {
        "id": "yHBKthNZ9ABs",
        "colab": {
          "base_uri": "https://localhost:8080/",
          "height": 168
        },
        "outputId": "c07f23d7-a9a3-4e25-9e77-8351e72ed18d"
      },
      "execution_count": 83,
      "outputs": [
        {
          "output_type": "display_data",
          "data": {
            "text/plain": [
              "<Figure size 1500x300 with 10 Axes>"
            ],
            "image/png": "[encoded data removed]"
          },
          "metadata": {}
        }
      ]
    },
    {
      "cell_type": "markdown",
      "source": [
        "# 3. Задание\n",
        "## 3.1. Обработка фотографии рукописного символа\n",
        "## 3.1.1. Изобразите произвольный рукописный цифровой символ и сделайте фото.\n",
        "## 3.1.2. Примените обученную модель к цифровой версии полученного фото.\n",
        "## 3.1.3. Продемонстрируйте распознавание символа обученной нейронной сетью.\n",
        "## 3.1.4. Оцените вероятности принадлежности фрагмента к тому или иному классу"
      ],
      "metadata": {
        "id": "YsuluaY-Igpf"
      }
    },
    {
      "cell_type": "code",
      "source": [
        "def readImage(path):\n",
        "  img = cv2.imread(path, cv2.IMREAD_COLOR)\n",
        "  grb = cv2.cvtColor(img, cv2.COLOR_BGR2GRAY)\n",
        "  stretch_near = cv2.resize(grb, (28, 28), interpolation = cv2.INTER_LINEAR)\n",
        "  stretch_near_not = cv2.bitwise_not(stretch_near)\n",
        "  transform = transforms.Compose([transforms.ToTensor()])\n",
        "  return  transform(stretch_near_not)"
      ],
      "metadata": {
        "id": "ZnhTEHB2QG7i"
      },
      "execution_count": 84,
      "outputs": []
    },
    {
      "cell_type": "code",
      "source": [
        "test_images = [readImage('./data/1.jpg'), readImage('./data/2.jpg'), readImage('./data/3.jpg'), readImage('./data/6.jpg')]\n",
        "test_labels = [1, 2, 3, 6]\n",
        "\n",
        "model.eval()\n",
        "\n",
        "all_preds = []\n",
        "with torch.no_grad():\n",
        " for X in test_images:\n",
        "  preds = model(X)\n",
        "  _, pred_labels = torch.max(preds, 1)\n",
        "  all_preds.extend(pred_labels.numpy())\n",
        "\n",
        "print(all_preds)\n",
        "\n",
        "visualize_predictions(test_images, np.array(test_labels), all_preds, 4)"
      ],
      "metadata": {
        "colab": {
          "base_uri": "https://localhost:8080/",
          "height": 313
        },
        "id": "Yv0Qra5LH8bS",
        "outputId": "2236897f-01bd-4f2d-9e30-77c4facf12ba"
      },
      "execution_count": 85,
      "outputs": [
        {
          "output_type": "stream",
          "name": "stdout",
          "text": [
            "[5, 8, 1, 5]\n"
          ]
        },
        {
          "output_type": "display_data",
          "data": {
            "text/plain": [
              "<Figure size 1500x300 with 4 Axes>"
            ],
            "image/png": "[encoded data removed]"
          },
          "metadata": {}
        }
      ]
    },
    {
      "cell_type": "code",
      "source": [],
      "metadata": {
        "id": "CK0iYaBtL5OP"
      },
      "execution_count": null,
      "outputs": []
    }
  ]
}